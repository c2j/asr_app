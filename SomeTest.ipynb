{
 "cells": [
  {
   "cell_type": "code",
   "execution_count": 1,
   "id": "bf5475f6",
   "metadata": {},
   "outputs": [],
   "source": [
    "start_time=1647744628219 \n",
    "ts=0.162\n"
   ]
  },
  {
   "cell_type": "code",
   "execution_count": 2,
   "id": "66b15f98",
   "metadata": {},
   "outputs": [
    {
     "name": "stdout",
     "output_type": "stream",
     "text": [
      "2022-03-20 10:50:28.219000\n",
      "2022-03-20 10:50:28.381000\n"
     ]
    }
   ],
   "source": [
    "from datetime import datetime, timedelta\n",
    "# start_time是在前端js中用Date.now()获得的时间戳\n",
    "st_datetime = datetime.fromtimestamp(start_time/1000)\n",
    "print(st_datetime)\n",
    "\n",
    "new_datetime = st_datetime + timedelta(seconds=ts)\n",
    "print(new_datetime)"
   ]
  },
  {
   "cell_type": "code",
   "execution_count": 3,
   "id": "ccb91a12",
   "metadata": {},
   "outputs": [
    {
     "data": {
      "text/plain": [
       "1647744628.219"
      ]
     },
     "execution_count": 3,
     "metadata": {},
     "output_type": "execute_result"
    }
   ],
   "source": [
    "st_datetime.timestamp()"
   ]
  }
 ],
 "metadata": {
  "kernelspec": {
   "display_name": "Python 3 (ipykernel)",
   "language": "python",
   "name": "python3"
  },
  "language_info": {
   "codemirror_mode": {
    "name": "ipython",
    "version": 3
   },
   "file_extension": ".py",
   "mimetype": "text/x-python",
   "name": "python",
   "nbconvert_exporter": "python",
   "pygments_lexer": "ipython3",
   "version": "3.8.5"
  }
 },
 "nbformat": 4,
 "nbformat_minor": 5
}
